{
  "nbformat": 4,
  "nbformat_minor": 0,
  "metadata": {
    "colab": {
      "provenance": [],
      "authorship_tag": "ABX9TyNnn97w6r9J+zZv374MNxvk",
      "include_colab_link": true
    },
    "kernelspec": {
      "name": "python3",
      "display_name": "Python 3"
    },
    "language_info": {
      "name": "python"
    }
  },
  "cells": [
    {
      "cell_type": "markdown",
      "metadata": {
        "id": "view-in-github",
        "colab_type": "text"
      },
      "source": [
        "<a href=\"https://colab.research.google.com/github/x200168shen/Cookbook-for-Rustaceans-in-Finance/blob/main/Untitled0.ipynb\" target=\"_parent\"><img src=\"https://colab.research.google.com/assets/colab-badge.svg\" alt=\"Open In Colab\"/></a>"
      ]
    },
    {
      "cell_type": "code",
      "execution_count": 4,
      "metadata": {
        "colab": {
          "base_uri": "https://localhost:8080/"
        },
        "id": "xFInD1rg9OKR",
        "outputId": "58ff7098-04d7-4d47-8e23-1a5d1501e3b0"
      },
      "outputs": [
        {
          "output_type": "stream",
          "name": "stdout",
          "text": [
            "[[ 1  2]\n",
            " [ 3  4]\n",
            " [ 5  6]\n",
            " [ 7  8]\n",
            " [ 9 10]\n",
            " [11 12]]\n"
          ]
        }
      ],
      "source": [
        "import numpy as np\n",
        "demoDate = np.array( [[1,2,3,4],[5,6,7,8],[9,10,11,12]])\n",
        "newDate = np.reshape(demoDate,(6,2))\n",
        "print(newDate)"
      ]
    },
    {
      "cell_type": "code",
      "source": [
        "from tensorflow.keras.datasets import mnist\n",
        "(samples_train, labels_train), (samples_test, labels_test) = \\\n",
        "   mnist.load_data()"
      ],
      "metadata": {
        "colab": {
          "base_uri": "https://localhost:8080/"
        },
        "id": "w_AFngo8Cng6",
        "outputId": "0540898f-29fe-4473-f0bd-545ea69a6aaf"
      },
      "execution_count": 10,
      "outputs": [
        {
          "output_type": "stream",
          "name": "stdout",
          "text": [
            "Downloading data from https://storage.googleapis.com/tensorflow/tf-keras-datasets/mnist.npz\n",
            "\u001b[1m11490434/11490434\u001b[0m \u001b[32m━━━━━━━━━━━━━━━━━━━━\u001b[0m\u001b[37m\u001b[0m \u001b[1m0s\u001b[0m 0us/step\n"
          ]
        }
      ]
    },
    {
      "cell_type": "markdown",
      "source": [
        "MNIST集是 Keras 提供的。我们导入 mnist 模块，然后使用其定义的 load_data() 返回1训练集和1测试集,注意\\后面没有空格，然后开始下载集，并存到磁盘上，速度很快"
      ],
      "metadata": {
        "id": "GaM6M4YxDK5S"
      }
    },
    {
      "cell_type": "markdown",
      "source": [],
      "metadata": {
        "id": "BrKuzhbNC-vM"
      }
    },
    {
      "cell_type": "code",
      "source": [],
      "metadata": {
        "id": "upC4a1KmF-ga"
      },
      "execution_count": null,
      "outputs": []
    },
    {
      "cell_type": "code",
      "source": [
        "print(\"samples_train shape = \",samples_train.shape)\n",
        "print(\"labels_train shape = \",labels_train.shape)\n",
        "print(\"samples_test shape = \",samples_test.shape)\n",
        "print(\"labels_test shape = \",labels_test.shape)"
      ],
      "metadata": {
        "colab": {
          "base_uri": "https://localhost:8080/"
        },
        "id": "lr0-T8zJDHKa",
        "outputId": "4611a4cb-6e15-40f6-e147-18ea94cfa814"
      },
      "execution_count": 11,
      "outputs": [
        {
          "output_type": "stream",
          "name": "stdout",
          "text": [
            "samples_train shape =  (60000, 28, 28)\n",
            "labels_train shape =  (60000,)\n",
            "samples_test shape =  (10000, 28, 28)\n",
            "labels_test shape =  (10000,)\n"
          ]
        }
      ]
    },
    {
      "cell_type": "markdown",
      "source": [
        "第一对变量 samples_train 和 labels_train 保存了包含训练集的 60,000\n",
        "张图像及其对应的整数标签的数组。第二对变量 samples_test 和 labels_test 保存了包含测试集的 10,000 张图像和标签的数组。打印它们来快速查看它们的形状。这些数组都是从 Keras 返回的 NumPy 数组，因此它们都具有我们可以打印的内置 shape 属性。array（）的作用，6000逗号表示是列表而不是数字"
      ],
      "metadata": {
        "id": "9Tf8WGDnGr2e"
      }
    }
  ]
}