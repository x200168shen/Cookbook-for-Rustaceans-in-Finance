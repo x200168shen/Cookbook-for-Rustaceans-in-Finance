{
  "nbformat": 4,
  "nbformat_minor": 0,
  "metadata": {
    "colab": {
      "provenance": [],
      "authorship_tag": "ABX9TyPrK3MPsdpBoVnb7yFt8JnG",
      "include_colab_link": true
    },
    "kernelspec": {
      "name": "python3",
      "display_name": "Python 3"
    },
    "language_info": {
      "name": "python"
    }
  },
  "cells": [
    {
      "cell_type": "markdown",
      "metadata": {
        "id": "view-in-github",
        "colab_type": "text"
      },
      "source": [
        "<a href=\"https://colab.research.google.com/github/x200168shen/Cookbook-for-Rustaceans-in-Finance/blob/main/BERAS.ipynb\" target=\"_parent\"><img src=\"https://colab.research.google.com/assets/colab-badge.svg\" alt=\"Open In Colab\"/></a>"
      ]
    },
    {
      "cell_type": "code",
      "execution_count": null,
      "metadata": {
        "colab": {
          "base_uri": "https://localhost:8080/"
        },
        "id": "xFInD1rg9OKR",
        "outputId": "58ff7098-04d7-4d47-8e23-1a5d1501e3b0"
      },
      "outputs": [
        {
          "output_type": "stream",
          "name": "stdout",
          "text": [
            "[[ 1  2]\n",
            " [ 3  4]\n",
            " [ 5  6]\n",
            " [ 7  8]\n",
            " [ 9 10]\n",
            " [11 12]]\n"
          ]
        }
      ],
      "source": [
        "import numpy as np\n",
        "demoDate = np.array( [[1,2,3,4],[5,6,7,8],[9,10,11,12]])\n",
        "newDate = np.reshape(demoDate,(6,2))\n",
        "print(newDate)"
      ]
    },
    {
      "cell_type": "code",
      "source": [
        "from tensorflow.keras.datasets import mnist\n",
        "(samples_train, labels_train), (samples_test, labels_test) = \\\n",
        "   mnist.load_data()"
      ],
      "metadata": {
        "colab": {
          "base_uri": "https://localhost:8080/"
        },
        "id": "w_AFngo8Cng6",
        "outputId": "0540898f-29fe-4473-f0bd-545ea69a6aaf"
      },
      "execution_count": null,
      "outputs": [
        {
          "output_type": "stream",
          "name": "stdout",
          "text": [
            "Downloading data from https://storage.googleapis.com/tensorflow/tf-keras-datasets/mnist.npz\n",
            "\u001b[1m11490434/11490434\u001b[0m \u001b[32m━━━━━━━━━━━━━━━━━━━━\u001b[0m\u001b[37m\u001b[0m \u001b[1m0s\u001b[0m 0us/step\n"
          ]
        }
      ]
    },
    {
      "cell_type": "markdown",
      "source": [
        "MNIST集是 Keras 提供的。我们导入 mnist 模块，然后使用其定义的 load_data() 返回1训练集和1测试集,注意\\后面没有空格，然后开始下载集，并存到磁盘上，速度很快"
      ],
      "metadata": {
        "id": "GaM6M4YxDK5S"
      }
    },
    {
      "cell_type": "markdown",
      "source": [],
      "metadata": {
        "id": "BrKuzhbNC-vM"
      }
    },
    {
      "cell_type": "code",
      "source": [],
      "metadata": {
        "id": "upC4a1KmF-ga"
      },
      "execution_count": null,
      "outputs": []
    },
    {
      "cell_type": "code",
      "source": [
        "print(\"samples_train shape = \",samples_train.shape)\n",
        "print(\"labels_train shape = \",labels_train.shape)\n",
        "print(\"samples_test shape = \",samples_test.shape)\n",
        "print(\"labels_test shape = \",labels_test.shape)"
      ],
      "metadata": {
        "colab": {
          "base_uri": "https://localhost:8080/"
        },
        "id": "lr0-T8zJDHKa",
        "outputId": "4611a4cb-6e15-40f6-e147-18ea94cfa814"
      },
      "execution_count": null,
      "outputs": [
        {
          "output_type": "stream",
          "name": "stdout",
          "text": [
            "samples_train shape =  (60000, 28, 28)\n",
            "labels_train shape =  (60000,)\n",
            "samples_test shape =  (10000, 28, 28)\n",
            "labels_test shape =  (10000,)\n"
          ]
        }
      ]
    },
    {
      "cell_type": "markdown",
      "source": [
        "第一对变量 samples_train 和 labels_train 保存了包含训练集的 60,000\n",
        "张图像及其对应的整数标签的数组。第二对变量 samples_test 和 labels_test 保存了包含测试集的 10,000 张图像和标签的数组。打印它们来快速查看它们的形状。这些数组都是从 Keras 返回的 NumPy 数组，因此它们都具有我们可以打印的内置 shape 属性。array（）的作用，6000逗号表示是列表而不是数字"
      ],
      "metadata": {
        "id": "9Tf8WGDnGr2e"
      }
    },
    {
      "cell_type": "code",
      "source": [
        "from tensorflow.keras.datasets import mnist\n",
        "(X_train, y_train), (X_test, y_test) = \\\n",
        "   mnist.load_data()"
      ],
      "metadata": {
        "colab": {
          "base_uri": "https://localhost:8080/"
        },
        "id": "-6KdFiYChpFi",
        "outputId": "1b9f191f-886c-4c3a-9c62-9406a9eaaf7a"
      },
      "execution_count": 1,
      "outputs": [
        {
          "output_type": "stream",
          "name": "stdout",
          "text": [
            "Downloading data from https://storage.googleapis.com/tensorflow/tf-keras-datasets/mnist.npz\n",
            "\u001b[1m11490434/11490434\u001b[0m \u001b[32m━━━━━━━━━━━━━━━━━━━━\u001b[0m\u001b[37m\u001b[0m \u001b[1m0s\u001b[0m 0us/step\n"
          ]
        }
      ]
    },
    {
      "cell_type": "markdown",
      "source": [
        "惯例是使用大写字母 X 来指代数据集的样本，使用小写字母 y 来指代其标签,加载 MNIST 数据，使用 X 作为样本，y 作为标签"
      ],
      "metadata": {
        "id": "6ioQwsqxiErO"
      }
    },
    {
      "cell_type": "code",
      "source": [
        "image_height = X_train.shape[1]\n",
        "image_width = X_train.shape[2]\n",
        "number_of_pixels = image_height * image_width"
      ],
      "metadata": {
        "id": "miyghwKwjb3W"
      },
      "execution_count": 3,
      "outputs": []
    },
    {
      "cell_type": "markdown",
      "source": [
        "因此让我们将每幅图像的原始高度和宽度存储在一个\n",
        "变量中。我们还将它们相乘并将其保存为每幅图像的总像素数,这\n",
        "种更通用的方法将使以后复制此代码并使其适应新的数据集变得更容易"
      ],
      "metadata": {
        "id": "WkzgZDz_jitR"
      }
    },
    {
      "cell_type": "code",
      "source": [
        "print('start of y_train:', y_train[:15])"
      ],
      "metadata": {
        "colab": {
          "base_uri": "https://localhost:8080/"
        },
        "id": "uUk8NyChjlbv",
        "outputId": "b5ed1a3e-8f01-4fb4-ad68-71563cc69e61"
      },
      "execution_count": 4,
      "outputs": [
        {
          "output_type": "stream",
          "name": "stdout",
          "text": [
            "start of y_train: [5 0 4 1 9 2 1 3 1 4 3 5 3 6 1]\n"
          ]
        }
      ]
    },
    {
      "cell_type": "markdown",
      "source": [
        "数据集中前15个元素"
      ],
      "metadata": {
        "id": "sc55lUquj52w"
      }
    },
    {
      "cell_type": "markdown",
      "source": [
        "图像匹配。\n",
        "由于 MNIST 数据非常知名，我们可以就此停止，但对于不太熟悉的数据集，我们可\n",
        "能需要在整个数据中进行至少几次这样的抽查，以确保两个列表保持同步"
      ],
      "metadata": {
        "id": "oia27heykM6j"
      }
    },
    {
      "cell_type": "code",
      "source": [
        "X_train[0, 5:12, 5:12]"
      ],
      "metadata": {
        "colab": {
          "base_uri": "https://localhost:8080/"
        },
        "id": "YtYQy7KtkAUL",
        "outputId": "f7aaa473-e856-43fd-9e08-8d419a0bc96f"
      },
      "execution_count": 5,
      "outputs": [
        {
          "output_type": "execute_result",
          "data": {
            "text/plain": [
              "array([[  0,   0,   0,   0,   0,   0,   0],\n",
              "       [  0,   0,   0,  30,  36,  94, 154],\n",
              "       [  0,   0,  49, 238, 253, 253, 253],\n",
              "       [  0,   0,  18, 219, 253, 253, 253],\n",
              "       [  0,   0,   0,  80, 156, 107, 253],\n",
              "       [  0,   0,   0,   0,  14,   1, 154],\n",
              "       [  0,   0,   0,   0,   0,   0, 139]], dtype=uint8)"
            ]
          },
          "metadata": {},
          "execution_count": 5
        }
      ]
    },
    {
      "cell_type": "markdown",
      "source": [
        "末尾的变量 dtype 告诉我们这是一个 NumPy 数组，由数据类型 uint8 表示，这意味\n",
        "着一个无符号的 8 位整数。检查 X_test 会发现相同的结构。正如我们从灰度图像数\n",
        "据中预期的那样，所有值都在 0 到 255 之间"
      ],
      "metadata": {
        "id": "c-e3XB-YkpJN"
      }
    },
    {
      "cell_type": "code",
      "source": [
        "y_train[:15]\n"
      ],
      "metadata": {
        "colab": {
          "base_uri": "https://localhost:8080/"
        },
        "id": "w27awrd8kwzi",
        "outputId": "4747b4d4-41e7-460c-9e65-aa539eedee77"
      },
      "execution_count": 6,
      "outputs": [
        {
          "output_type": "execute_result",
          "data": {
            "text/plain": [
              "array([5, 0, 4, 1, 9, 2, 1, 3, 1, 4, 3, 5, 3, 6, 1], dtype=uint8)"
            ]
          },
          "metadata": {},
          "execution_count": 6
        }
      ]
    },
    {
      "cell_type": "markdown",
      "source": [
        "无符号 8 位整数的 1D NumPy 数组，对于训练标签来说非常严格，\n",
        "因为这些数字不能超过 255。但这里我们只存储标签 0 到 9，所以 0 到 255 的范围足\n",
        "够了。"
      ],
      "metadata": {
        "id": "62EDZI9zk7dA"
      }
    },
    {
      "cell_type": "code",
      "source": [
        "from sklearn.model_selection import train_test_split\n",
        " X_train, X_test, y_train, y_test  = \\\n",
        "  train_test_split(samples, labels, test_size=0.25)"
      ],
      "metadata": {
        "colab": {
          "base_uri": "https://localhost:8080/",
          "height": 176
        },
        "id": "2QXQNgGXle7b",
        "outputId": "4205dfe3-0daa-4c2a-cc5b-a23a20d5bdf3"
      },
      "execution_count": 13,
      "outputs": [
        {
          "output_type": "error",
          "ename": "NameError",
          "evalue": "name 'samples' is not defined",
          "traceback": [
            "\u001b[0;31m---------------------------------------------------------------------------\u001b[0m",
            "\u001b[0;31mNameError\u001b[0m                                 Traceback (most recent call last)",
            "\u001b[0;32m<ipython-input-13-905b25571cb6>\u001b[0m in \u001b[0;36m<cell line: 0>\u001b[0;34m()\u001b[0m\n\u001b[1;32m      1\u001b[0m \u001b[0;32mfrom\u001b[0m \u001b[0msklearn\u001b[0m\u001b[0;34m.\u001b[0m\u001b[0mmodel_selection\u001b[0m \u001b[0;32mimport\u001b[0m \u001b[0mtrain_test_split\u001b[0m\u001b[0;34m\u001b[0m\u001b[0;34m\u001b[0m\u001b[0m\n\u001b[1;32m      2\u001b[0m \u001b[0;34m(\u001b[0m \u001b[0mX_train\u001b[0m\u001b[0;34m,\u001b[0m \u001b[0mX_test\u001b[0m\u001b[0;34m,\u001b[0m \u001b[0my_train\u001b[0m\u001b[0;34m,\u001b[0m \u001b[0my_test\u001b[0m \u001b[0;34m)\u001b[0m \u001b[0;34m=\u001b[0m\u001b[0;31m \u001b[0m\u001b[0;31m\\\u001b[0m\u001b[0;34m\u001b[0m\u001b[0;34m\u001b[0m\u001b[0m\n\u001b[0;32m----> 3\u001b[0;31m   \u001b[0mtrain_test_split\u001b[0m\u001b[0;34m(\u001b[0m\u001b[0msamples\u001b[0m\u001b[0;34m,\u001b[0m \u001b[0mlabels\u001b[0m\u001b[0;34m,\u001b[0m \u001b[0mtest_size\u001b[0m\u001b[0;34m=\u001b[0m\u001b[0;36m0.25\u001b[0m\u001b[0;34m)\u001b[0m\u001b[0;34m\u001b[0m\u001b[0;34m\u001b[0m\u001b[0m\n\u001b[0m",
            "\u001b[0;31mNameError\u001b[0m: name 'samples' is not defined"
          ]
        }
      ]
    },
    {
      "cell_type": "code",
      "source": [
        "from tensorflow.keras import backend as keras_backend\n",
        "X_train = keras_backend.cast_to_floatx(X_train)\n",
        "X_test = keras_backend.cast_to_floatx(X_test)"
      ],
      "metadata": {
        "id": "WNJsTS1zsVTd"
      },
      "execution_count": 14,
      "outputs": []
    },
    {
      "cell_type": "markdown",
      "source": [
        "遍历每个条目并将其转换为我们所需的数据类型,Keras 后端的 cast_to_floatx() 函数，该函数以张量为参数，并将该张量的每个元素转换为 floatx 当前值指定的类型。该例程甚至不关心张量的形状。从一维列表到一些巨大的"
      ],
      "metadata": {
        "id": "CzTJtEMLsYi2"
      }
    },
    {
      "cell_type": "code",
      "source": [
        "import numpy as np\n",
        "X_train = np.interp(X_train, [0, 255], [0,1])\n",
        "X_test = np.interp(X_test, [0, 255], [0,1])\n",
        "X_train /= 255.0\n",
        "X_test /= 255.0"
      ],
      "metadata": {
        "id": "Ya9Sg3uatVic"
      },
      "execution_count": 17,
      "outputs": []
    },
    {
      "cell_type": "markdown",
      "source": [
        "X_train 和 X_test 中的特征数据最初由 0 到 255 范围内的\n",
        "整数组成，这是图像数据通道的常见范围。我们刚刚将这些值转换为 32 位浮点\n",
        "数，因此我们可以说它们现在在 0.0 到 255.0 范围内。\n",
        "我们上面说过，我们需要将数据标准化到 [0.0, 1.0] 范围内。正如我们在前几章中看\n",
        "到的，这有助于将神经元输出保持在同一范围内，从而有助于正则化并延迟过度拟\n",
        "合的发生。如果我们使用像 S 型这样的激活函数，它可以防止我们的函数饱和。\n",
        "我们可以通过完整的预处理步骤来实现这种规范化。我们将检查训练数据中像素的\n",
        "值，构建一个转换以将它们缩放到 [0,1]，然后将该转换应用于训练数据、测试数据\n",
        "和任何未来数据。我们可以创建一个 scikit-learn 的转换对象，对其进行训练，然后\n",
        "将其应用于我们的数据。使用 Numpy 的 interp() 例程来缩放输入数据，该例程就是为这项工作而设\n",
        "计的。它需要一个数组（或张量）、一个输入范围和一个输出范围,将所有像素除以255.0来实现同样的事情"
      ],
      "metadata": {
        "id": "8wxiSuUTt4xY"
      }
    }
  ]
}